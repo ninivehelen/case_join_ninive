{
 "cells": [
  {
   "cell_type": "markdown",
   "metadata": {
    "application/vnd.databricks.v1+cell": {
     "cellMetadata": {
      "byteLimit": 2048000,
      "rowLimit": 10000
     },
     "inputWidgets": {},
     "nuid": "3fdf7784-7653-4ce7-b132-ebe8e83a2c49",
     "showTitle": false,
     "title": ""
    }
   },
   "source": [
    "##Desáfio Join. Vaga para Analista de Dados Jr (python)"
   ]
  },
  {
   "cell_type": "code",
   "execution_count": 0,
   "metadata": {
    "application/vnd.databricks.v1+cell": {
     "cellMetadata": {
      "byteLimit": 2048000,
      "rowLimit": 10000
     },
     "inputWidgets": {},
     "nuid": "5b1bd08e-672a-4cde-9092-4d2fc9166bb5",
     "showTitle": false,
     "title": ""
    }
   },
   "outputs": [],
   "source": [
    "#lista de colunas existentes no banco\n",
    "colunas = ['customers','employees','offices','orderdetails','orders','payments','product_lines','products']"
   ]
  },
  {
   "cell_type": "markdown",
   "metadata": {
    "application/vnd.databricks.v1+cell": {
     "cellMetadata": {
      "byteLimit": 2048000,
      "rowLimit": 10000
     },
     "inputWidgets": {},
     "nuid": "64dbd541-205c-40ce-80fa-4fa8c96fa23e",
     "showTitle": false,
     "title": ""
    }
   },
   "source": [
    "Visualizando e Extraindo dados das tabelas e salvando no formato parquet"
   ]
  },
  {
   "cell_type": "code",
   "execution_count": 0,
   "metadata": {
    "application/vnd.databricks.v1+cell": {
     "cellMetadata": {
      "byteLimit": 2048000,
      "rowLimit": 10000
     },
     "inputWidgets": {},
     "nuid": "6482be4c-f067-47c9-b0ac-35c938b94601",
     "showTitle": false,
     "title": ""
    }
   },
   "outputs": [],
   "source": [
    "#função criada para conectar ao banco de dados \n",
    "def conexao():\n",
    " for colunas_lista in colunas:   \n",
    "      driver = \"org.postgresql.Driver\"\n",
    "      url = \"jdbc:postgresql://psql-mock-database-cloud.postgres.database.azure.com:5432/ecom1692848222792bypjwxeymatmczia\"\n",
    "      table = f'{colunas_lista}'\n",
    "      user = \"gkwimjzggfdatutzxsdmvjzq@psql-mock-database-cloud\"\n",
    "      password = \"ntikuznbgqhgqqbsydxnycdu\"\n",
    "      mostrar_tabelas_extrair(colunas_lista, driver, url, table, user, password)"
   ]
  },
  {
   "cell_type": "code",
   "execution_count": 0,
   "metadata": {
    "application/vnd.databricks.v1+cell": {
     "cellMetadata": {
      "byteLimit": 2048000,
      "rowLimit": 10000
     },
     "inputWidgets": {},
     "nuid": "f6366891-7da1-478e-8094-4291f4fca976",
     "showTitle": false,
     "title": ""
    }
   },
   "outputs": [],
   "source": [
    "#Função criada visualizar as tabelas do banco de dados e para extrair as tabelas no formato parquet\n",
    "def mostrar_tabelas_extrair(colunas_lista, driver, url, table, user, password,):\n",
    "  global df \n",
    "  df = (\n",
    "    spark.read.format(\"jdbc\") \\\n",
    "      .option(\"driver\", driver)\n",
    "      .option(\"url\", url)\n",
    "      .option(\"dbtable\", table)\n",
    "      .option(\"user\", user)\n",
    "      .option(\"password\", password)\n",
    "      .load()\n",
    "  )\n",
    "  df.write.format(\"parquet\").mode(\"overwrite\").save(f'dbfs:/FileStore/shared_uploads/ninivehelen@gmail.com/{colunas_lista}.parquet')\n",
    "  print(f'arquivo: {colunas_lista} salvo')\n",
    "  #display(df)\n"
   ]
  },
  {
   "cell_type": "code",
   "execution_count": 0,
   "metadata": {
    "application/vnd.databricks.v1+cell": {
     "cellMetadata": {
      "byteLimit": 2048000,
      "rowLimit": 10000
     },
     "inputWidgets": {},
     "nuid": "45582d10-4fc9-4639-9d7a-12a510707805",
     "showTitle": false,
     "title": ""
    }
   },
   "outputs": [
    {
     "output_type": "stream",
     "name": "stdout",
     "output_type": "stream",
     "text": [
      "arquivo: customers salvo\narquivo: employees salvo\narquivo: offices salvo\narquivo: orderdetails salvo\narquivo: orders salvo\narquivo: payments salvo\narquivo: product_lines salvo\narquivo: products salvo\n"
     ]
    }
   ],
   "source": [
    "#Main para fazer a chamada das funções\n",
    "if __name__==\"__main__\":\n",
    "    conexao()"
   ]
  },
  {
   "cell_type": "markdown",
   "metadata": {
    "application/vnd.databricks.v1+cell": {
     "cellMetadata": {
      "byteLimit": 2048000,
      "rowLimit": 10000
     },
     "inputWidgets": {},
     "nuid": "4cbbc191-01d6-4fdd-af39-4584068f8cf9",
     "showTitle": false,
     "title": ""
    }
   },
   "source": [
    "##Etapa de trazer informações com pyspark"
   ]
  },
  {
   "cell_type": "markdown",
   "metadata": {
    "application/vnd.databricks.v1+cell": {
     "cellMetadata": {
      "byteLimit": 2048000,
      "rowLimit": 10000
     },
     "inputWidgets": {},
     "nuid": "98fcc320-9507-4035-9833-d7fc191023b8",
     "showTitle": false,
     "title": ""
    }
   },
   "source": [
    "Etapa com spark para trazer informações como:\n",
    "- Qual país possui a maior quantidade de itens cancelados?\n",
    "- Qual o faturamento da linha de produto mais vendido, considere como os itens\n",
    "Shipped, cujo o pedido foi realizado no ano de 2005?\n",
    "- Nome, sobrenome e e-mail dos vendedores do Japão, o local-part do e-mail\n",
    "deve estar mascarado."
   ]
  },
  {
   "cell_type": "code",
   "execution_count": 0,
   "metadata": {
    "application/vnd.databricks.v1+cell": {
     "cellMetadata": {
      "byteLimit": 2048000,
      "rowLimit": 10000
     },
     "inputWidgets": {},
     "nuid": "35a617ec-7806-40af-b563-418faa7fd88c",
     "showTitle": false,
     "title": ""
    }
   },
   "outputs": [],
   "source": [
    "#Capturando os arquivos necessário para as consultas sql\n",
    "customers = spark.read.format(\"parquet\").option(\"header\", \"true\").load(\"dbfs:/FileStore/shared_uploads/ninivehelen@gmail.com/customers.parquet\")\n",
    "orders = spark.read.format(\"parquet\").option(\"header\", \"true\").load(\"dbfs:/FileStore/shared_uploads/ninivehelen@gmail.com/orders.parquet\")\n",
    "products = spark.read.format(\"parquet\").option(\"header\", \"true\").load(\"dbfs:/FileStore/shared_uploads/ninivehelen@gmail.com/products.parquet\")\n",
    "payments = spark.read.format(\"parquet\").option(\"header\", \"true\").load(\"dbfs:/FileStore/shared_uploads/ninivehelen@gmail.com/payments.parquet\")\n",
    "orderdetails = spark.read.format(\"parquet\").option(\"header\", \"true\").load(\"dbfs:/FileStore/shared_uploads/ninivehelen@gmail.com/orderdetails.parquet\")\n",
    "offices = spark.read.format(\"parquet\").option(\"header\", \"true\").load(\"dbfs:/FileStore/shared_uploads/ninivehelen@gmail.com/offices.parquet\")\n",
    "employees = spark.read.format(\"parquet\").option(\"header\", \"true\").load(\"dbfs:/FileStore/shared_uploads/ninivehelen@gmail.com/employees.parquet\")"
   ]
  },
  {
   "cell_type": "code",
   "execution_count": 0,
   "metadata": {
    "application/vnd.databricks.v1+cell": {
     "cellMetadata": {
      "byteLimit": 2048000,
      "rowLimit": 10000
     },
     "inputWidgets": {},
     "nuid": "fb80d23a-20b0-4faf-855e-f9c5925fc064",
     "showTitle": false,
     "title": ""
    }
   },
   "outputs": [],
   "source": [
    "#Criando uma tempView para fazer as consultas sql \n",
    "customers.createOrReplaceTempView(\"customers\")\n",
    "orders.createOrReplaceTempView(\"orders\")\n",
    "products.createOrReplaceTempView(\"products\")\n",
    "payments.createOrReplaceTempView(\"payments\")\n",
    "orderdetails.createOrReplaceTempView(\"orderdetails\")\n",
    "offices.createOrReplaceTempView(\"offices\")\n",
    "employees.createOrReplaceTempView(\"employees\")"
   ]
  },
  {
   "cell_type": "markdown",
   "metadata": {
    "application/vnd.databricks.v1+cell": {
     "cellMetadata": {
      "byteLimit": 2048000,
      "rowLimit": 10000
     },
     "inputWidgets": {},
     "nuid": "518edd2c-38e7-4894-8bf0-1a730c6bae20",
     "showTitle": false,
     "title": ""
    }
   },
   "source": [
    "Qual país possui a maior quantidade de itens cancelados?"
   ]
  },
  {
   "cell_type": "code",
   "execution_count": 0,
   "metadata": {
    "application/vnd.databricks.v1+cell": {
     "cellMetadata": {
      "byteLimit": 2048000,
      "rowLimit": 10000
     },
     "inputWidgets": {},
     "nuid": "e3278d3c-af75-445f-a5b9-3a402853d53c",
     "showTitle": false,
     "title": ""
    }
   },
   "outputs": [
    {
     "output_type": "stream",
     "name": "stdout",
     "output_type": "stream",
     "text": [
      "arquivo: pais_quant_mais_intens_cancelados salvo\n"
     ]
    },
    {
     "output_type": "display_data",
     "data": {
      "text/html": [
       "<style scoped>\n",
       "  .table-result-container {\n",
       "    max-height: 300px;\n",
       "    overflow: auto;\n",
       "  }\n",
       "  table, th, td {\n",
       "    border: 1px solid black;\n",
       "    border-collapse: collapse;\n",
       "  }\n",
       "  th, td {\n",
       "    padding: 5px;\n",
       "  }\n",
       "  th {\n",
       "    text-align: left;\n",
       "  }\n",
       "</style><div class='table-result-container'><table class='table-result'><thead style='background-color: white'><tr><th>country</th><th>status</th><th>total_cancelados</th></tr></thead><tbody><tr><td>New Zealand</td><td>Cancelled</td><td>2</td></tr><tr><td>Spain</td><td>Cancelled</td><td>1</td></tr><tr><td>Sweden</td><td>Cancelled</td><td>1</td></tr><tr><td>USA</td><td>Cancelled</td><td>1</td></tr><tr><td>UK</td><td>Cancelled</td><td>1</td></tr></tbody></table></div>"
      ]
     },
     "metadata": {
      "application/vnd.databricks.v1+output": {
       "addedWidgets": {},
       "aggData": [],
       "aggError": "",
       "aggOverflow": false,
       "aggSchema": [],
       "aggSeriesLimitReached": false,
       "aggType": "",
       "arguments": {},
       "columnCustomDisplayInfos": {},
       "data": [
        [
         "New Zealand",
         "Cancelled",
         2
        ],
        [
         "Spain",
         "Cancelled",
         1
        ],
        [
         "Sweden",
         "Cancelled",
         1
        ],
        [
         "USA",
         "Cancelled",
         1
        ],
        [
         "UK",
         "Cancelled",
         1
        ]
       ],
       "datasetInfos": [],
       "dbfsResultPath": null,
       "isJsonSchema": true,
       "metadata": {},
       "overflow": false,
       "plotOptions": {
        "customPlotOptions": {},
        "displayType": "table",
        "pivotAggregation": null,
        "pivotColumns": null,
        "xColumns": null,
        "yColumns": null
       },
       "removedWidgets": [],
       "schema": [
        {
         "metadata": "{\"scale\":0}",
         "name": "country",
         "type": "\"string\""
        },
        {
         "metadata": "{\"scale\":0}",
         "name": "status",
         "type": "\"string\""
        },
        {
         "metadata": "{}",
         "name": "total_cancelados",
         "type": "\"long\""
        }
       ],
       "type": "table"
      }
     },
     "output_type": "display_data"
    }
   ],
   "source": [
    "#Sql criado com spark para trazer a resposta da 1 pergunta \n",
    "df_inner_join_consulta_1 = spark.sql(\"\"\"\n",
    "select customers.country,orders.status, count(orders.status) as total_cancelados\n",
    "from orders INNER JOIN  customers On  \n",
    "customers.customer_number = orders.customer_number \n",
    "where orders.status = 'Cancelled'\n",
    "group by customers.country, orders.status\n",
    "ORDER BY total_cancelados DESC\n",
    "\"\"\")\n",
    "#Salvar consulta em formato delta\n",
    "df_inner_join_consulta_1.write.format(\"delta\").mode(\"overwrite\").save('dbfs:/FileStore/shared_uploads/ninivehelen@gmail.com/pais_quant_mais_intens_cancelados.delta')\n",
    "print('arquivo: pais_quant_mais_intens_cancelados salvo')\n",
    "display(df_inner_join_consulta_1)"
   ]
  },
  {
   "cell_type": "markdown",
   "metadata": {
    "application/vnd.databricks.v1+cell": {
     "cellMetadata": {
      "byteLimit": 2048000,
      "rowLimit": 10000
     },
     "inputWidgets": {},
     "nuid": "7a2acf8f-c62b-4f5b-83dc-57b8afe72030",
     "showTitle": false,
     "title": ""
    }
   },
   "source": [
    "**Resposta: New Zealand, Cancelled 2**"
   ]
  },
  {
   "cell_type": "markdown",
   "metadata": {
    "application/vnd.databricks.v1+cell": {
     "cellMetadata": {
      "byteLimit": 2048000,
      "rowLimit": 10000
     },
     "inputWidgets": {},
     "nuid": "9fcc7bc7-985c-4922-8766-8c12ebb76a1f",
     "showTitle": false,
     "title": ""
    }
   },
   "source": [
    "Qual o faturamento da linha de produto mais vendido, considere como os itens Shipped, cujo o pedido foi realizado no ano de 2005?"
   ]
  },
  {
   "cell_type": "code",
   "execution_count": 0,
   "metadata": {
    "application/vnd.databricks.v1+cell": {
     "cellMetadata": {
      "byteLimit": 2048000,
      "rowLimit": 10000
     },
     "inputWidgets": {},
     "nuid": "701381a9-03bc-4a15-ae7c-583c88ac2cb6",
     "showTitle": false,
     "title": ""
    }
   },
   "outputs": [
    {
     "output_type": "stream",
     "name": "stdout",
     "output_type": "stream",
     "text": [
      "arquivo: fatu_linha_prod_mais_vendido salvo\n"
     ]
    },
    {
     "output_type": "display_data",
     "data": {
      "text/html": [
       "<style scoped>\n",
       "  .table-result-container {\n",
       "    max-height: 300px;\n",
       "    overflow: auto;\n",
       "  }\n",
       "  table, th, td {\n",
       "    border: 1px solid black;\n",
       "    border-collapse: collapse;\n",
       "  }\n",
       "  th, td {\n",
       "    padding: 5px;\n",
       "  }\n",
       "  th {\n",
       "    text-align: left;\n",
       "  }\n",
       "</style><div class='table-result-container'><table class='table-result'><thead style='background-color: white'><tr><th>product_line</th><th>total_faturamento</th><th>status</th><th>total_entregue</th></tr></thead><tbody><tr><td>Classic Cars</td><td>47574393.22</td><td>Shipped</td><td>937</td></tr><tr><td>Vintage Cars</td><td>20554555.43</td><td>Shipped</td><td>423</td></tr><tr><td>Trucks and Buses</td><td>19052696.92</td><td>Shipped</td><td>367</td></tr><tr><td>Motorcycles</td><td>9481582.65</td><td>Shipped</td><td>228</td></tr><tr><td>Trains</td><td>4500938.31</td><td>Shipped</td><td>87</td></tr><tr><td>Planes</td><td>3954799.97</td><td>Shipped</td><td>113</td></tr><tr><td>Ships</td><td>3573772.73</td><td>Shipped</td><td>85</td></tr></tbody></table></div>"
      ]
     },
     "metadata": {
      "application/vnd.databricks.v1+output": {
       "addedWidgets": {},
       "aggData": [],
       "aggError": "",
       "aggOverflow": false,
       "aggSchema": [],
       "aggSeriesLimitReached": false,
       "aggType": "",
       "arguments": {},
       "columnCustomDisplayInfos": {},
       "data": [
        [
         "Classic Cars",
         "47574393.22",
         "Shipped",
         937
        ],
        [
         "Vintage Cars",
         "20554555.43",
         "Shipped",
         423
        ],
        [
         "Trucks and Buses",
         "19052696.92",
         "Shipped",
         367
        ],
        [
         "Motorcycles",
         "9481582.65",
         "Shipped",
         228
        ],
        [
         "Trains",
         "4500938.31",
         "Shipped",
         87
        ],
        [
         "Planes",
         "3954799.97",
         "Shipped",
         113
        ],
        [
         "Ships",
         "3573772.73",
         "Shipped",
         85
        ]
       ],
       "datasetInfos": [],
       "dbfsResultPath": null,
       "isJsonSchema": true,
       "metadata": {},
       "overflow": false,
       "plotOptions": {
        "customPlotOptions": {},
        "displayType": "table",
        "pivotAggregation": null,
        "pivotColumns": null,
        "xColumns": null,
        "yColumns": null
       },
       "removedWidgets": [],
       "schema": [
        {
         "metadata": "{\"scale\":0}",
         "name": "product_line",
         "type": "\"string\""
        },
        {
         "metadata": "{}",
         "name": "total_faturamento",
         "type": "\"decimal(20,2)\""
        },
        {
         "metadata": "{\"scale\":0}",
         "name": "status",
         "type": "\"string\""
        },
        {
         "metadata": "{}",
         "name": "total_entregue",
         "type": "\"long\""
        }
       ],
       "type": "table"
      }
     },
     "output_type": "display_data"
    }
   ],
   "source": [
    "#Sql criado com spark para trazer a resposta da 2 pergunta \n",
    "df_inner_join_consulta_2 = spark.sql(\"\"\"\n",
    "select products.product_line, sum(payments.amount)as total_faturamento, orders.status, count(orders.status) as total_entregue  \n",
    "FROM payments \n",
    "inner join orders on payments.customer_number = orders.customer_number\n",
    "inner join orderdetails on orderdetails.order_number = orders.order_number\n",
    "inner join products on products.product_code = orderdetails.product_code\n",
    "where orders.status = 'Shipped' and Extract(year from orders.order_date) = '2005'\n",
    "group by products.product_line, orders.status\n",
    "ORDER BY total_faturamento DESC\n",
    "\"\"\")\n",
    "#Salvar consulta em formato delta\n",
    "df_inner_join_consulta_2.write.format(\"delta\").mode(\"overwrite\").save('dbfs:/FileStore/shared_uploads/ninivehelen@gmail.com/fatu_linha_prod_mais_vendido.delta')\n",
    "print('arquivo: fatu_linha_prod_mais_vendido salvo')\n",
    "display(df_inner_join_consulta_2)"
   ]
  },
  {
   "cell_type": "markdown",
   "metadata": {
    "application/vnd.databricks.v1+cell": {
     "cellMetadata": {
      "byteLimit": 2048000,
      "rowLimit": 10000
     },
     "inputWidgets": {},
     "nuid": "5fda5965-3d1f-4e8f-b1b6-8c7c6c67b0d5",
     "showTitle": false,
     "title": ""
    }
   },
   "source": [
    "**Resposta: Classic Cars, 47574393.22**"
   ]
  },
  {
   "cell_type": "markdown",
   "metadata": {
    "application/vnd.databricks.v1+cell": {
     "cellMetadata": {
      "byteLimit": 2048000,
      "rowLimit": 10000
     },
     "inputWidgets": {},
     "nuid": "859b7fbf-0ac2-495d-be21-e28eba9852e3",
     "showTitle": false,
     "title": ""
    }
   },
   "source": [
    "3. Nome, sobrenome e e-mail dos vendedores do Japão, o local-part do e-mail deve estar mascarado."
   ]
  },
  {
   "cell_type": "code",
   "execution_count": 0,
   "metadata": {
    "application/vnd.databricks.v1+cell": {
     "cellMetadata": {
      "byteLimit": 2048000,
      "rowLimit": 10000
     },
     "inputWidgets": {},
     "nuid": "1a670fdd-8e1b-4a66-bc26-9625b740839d",
     "showTitle": false,
     "title": ""
    }
   },
   "outputs": [
    {
     "output_type": "stream",
     "name": "stdout",
     "output_type": "stream",
     "text": [
      "arquivo: nome_sobrenome_vend_japao salvo\n"
     ]
    },
    {
     "output_type": "display_data",
     "data": {
      "text/html": [
       "<style scoped>\n",
       "  .table-result-container {\n",
       "    max-height: 300px;\n",
       "    overflow: auto;\n",
       "  }\n",
       "  table, th, td {\n",
       "    border: 1px solid black;\n",
       "    border-collapse: collapse;\n",
       "  }\n",
       "  th, td {\n",
       "    padding: 5px;\n",
       "  }\n",
       "  th {\n",
       "    text-align: left;\n",
       "  }\n",
       "</style><div class='table-result-container'><table class='table-result'><thead style='background-color: white'><tr><th>first_name</th><th>last_name</th><th>masked_email</th></tr></thead><tbody><tr><td>Mami</td><td>Nishi</td><td>mni****modelcars.com</td></tr><tr><td>Yoshimi</td><td>Kato</td><td>yk****modelcars.com</td></tr></tbody></table></div>"
      ]
     },
     "metadata": {
      "application/vnd.databricks.v1+output": {
       "addedWidgets": {},
       "aggData": [],
       "aggError": "",
       "aggOverflow": false,
       "aggSchema": [],
       "aggSeriesLimitReached": false,
       "aggType": "",
       "arguments": {},
       "columnCustomDisplayInfos": {},
       "data": [
        [
         "Mami",
         "Nishi",
         "mni****modelcars.com"
        ],
        [
         "Yoshimi",
         "Kato",
         "yk****modelcars.com"
        ]
       ],
       "datasetInfos": [],
       "dbfsResultPath": null,
       "isJsonSchema": true,
       "metadata": {},
       "overflow": false,
       "plotOptions": {
        "customPlotOptions": {},
        "displayType": "table",
        "pivotAggregation": null,
        "pivotColumns": null,
        "xColumns": null,
        "yColumns": null
       },
       "removedWidgets": [],
       "schema": [
        {
         "metadata": "{\"scale\":0}",
         "name": "first_name",
         "type": "\"string\""
        },
        {
         "metadata": "{\"scale\":0}",
         "name": "last_name",
         "type": "\"string\""
        },
        {
         "metadata": "{}",
         "name": "masked_email",
         "type": "\"string\""
        }
       ],
       "type": "table"
      }
     },
     "output_type": "display_data"
    }
   ],
   "source": [
    "#Sql criado com spark para trazer a resposta da 3 pergunta \n",
    "df_inner_join_consulta_3 = spark.sql(\"\"\"\n",
    "select employees.first_name, employees.last_name,\n",
    "regexp_replace(employees.email, '(.{2}(.@)+(classic)+)', '****') AS masked_email \n",
    "FROM employees \n",
    "inner join offices on employees.office_code = offices.office_code\n",
    "where offices.country = 'Japan'\n",
    "\"\"\")\n",
    "df_inner_join_consulta_3.write.format(\"delta\").mode(\"overwrite\").save('dbfs:/FileStore/shared_uploads/ninivehelen@gmail.com/nome_sobrenome_vend_japao.delta')\n",
    "print('arquivo: nome_sobrenome_vend_japao salvo')\n",
    "display(df_inner_join_consulta_3)"
   ]
  },
  {
   "cell_type": "code",
   "execution_count": 0,
   "metadata": {
    "application/vnd.databricks.v1+cell": {
     "cellMetadata": {},
     "inputWidgets": {},
     "nuid": "cdcdd153-3e5c-47c3-af5b-96d725c2c88a",
     "showTitle": false,
     "title": ""
    }
   },
   "outputs": [],
   "source": []
  }
 ],
 "metadata": {
  "application/vnd.databricks.v1+notebook": {
   "dashboards": [],
   "language": "python",
   "notebookMetadata": {
    "mostRecentlyExecutedCommandWithImplicitDF": {
     "commandId": 1080592002045141,
     "dataframes": [
      "_sqldf"
     ]
    },
    "pythonIndentUnit": 2
   },
   "notebookName": "desafio_join_notebook",
   "widgets": {}
  }
 },
 "nbformat": 4,
 "nbformat_minor": 0
}
